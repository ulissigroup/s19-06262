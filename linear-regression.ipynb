{
 "cells": [
  {
   "cell_type": "markdown",
   "metadata": {},
   "source": [
    "Adapted from 06-623 lecture notes (John Kitchin, 2018)."
   ]
  },
  {
   "cell_type": "code",
   "execution_count": 1,
   "metadata": {},
   "outputs": [],
   "source": [
    "pkg load optim\n",
    "set(0,'defaultAxesFontSize',20)\n",
    "set(0,'defaultLineLineWidth',5)"
   ]
  },
  {
   "cell_type": "code",
   "execution_count": 39,
   "metadata": {},
   "outputs": [
    {
     "data": {
      "image/png": "[encoded data removed]",
      "text/plain": [
       "<IPython.core.display.Image object>"
      ]
     },
     "metadata": {},
     "output_type": "display_data"
    }
   ],
   "source": [
    "\n",
    "time = [0.0, 50.0, 100.0, 150.0, 200.0, 250.0, 300.0]';\n",
    "Ca = [50.0, 38.0, 30.6, 25.6, 22.2, 19.5, 17.4]'*1e-3;\n",
    "\n",
    "plot(time,Ca,'o')\n",
    "xlabel('time')\n",
    "ylabel('Concentration C_A')"
   ]
  },
  {
   "cell_type": "markdown",
   "metadata": {},
   "source": [
    "\n",
    "# Linear regression\n",
    "\n"
   ]
  },
  {
   "cell_type": "markdown",
   "metadata": {},
   "source": [
    "In linear regression, we seek to find models in the form $y = a_{0} f_{0}(x) + a_{1} f_{1}(x) + ... + a_{n} f_{n}(x) + \\epsilon$, where $a_{i}$ are coefficients to be determined, and &epsilon; are the residual errors. We call this linear regression because the model is linear in the unknown coefficients $a_{i}$. The functions can be any function of $x$. In the function `polyfit` these functions are polynomials in $x$.\n",
    "\n",
    "If we are given some data as pairs of (x, y), we can construct a set of equations of the form:\n",
    "\n",
    "$[f_{0}(x_{i}), f_{1}(x_{i}), ..., f_{n}(x_{i})]\\cdot[a_{0}, a_{1}, ...,  a_{n}]^T = y_{i}$\n",
    "\n",
    "There will be one of these equations for every data point, so we end up with a matrix equation that looks like:\n",
    "\n",
    "$\\mathbf{X} \\mathbf{a} = \\mathbf{y}$\n",
    "\n",
    "There are *usually* more data points than in the vector of $\\mathbf{a}$, so the shapes of these arrays are not suitable to solve directly. You can of course set up an objective function and use `fminunc`, but there is a better approach.\n",
    "\n",
    "To be a little more specific, suppose we have $m$ pairs of (x, y) data points, and we want to fit a model containing $n$ parameters. Then, the dimensions of the $\\mathbf{X}$ will be (m, n), the dimensions of $\\mathbf{a}$ will be (n, 1), and the dimensions of $\\mathbf{y}$ will be (m, 1).  We have more equations than unknowns here, and we cannot use `A\\b` because $\\mathbf{X}$ is not square. \n",
    "\n",
    "We can modify the equation though if we *left multiply* each side of the equation by $\\mathbf{X}^T$.\n",
    "\n",
    "$\\mathbf{X}^T \\mathbf{X} \\mathbf{a} = \\mathbf{X}^T \\mathbf{y}$\n",
    "\n",
    "The array $\\mathbf{X}^T \\mathbf{X}$ now has the shape (n, m) \\* (m, n) = (n, n). The right hand side $\\mathbf{X}^T \\mathbf{y}$ has a shape of (n, m) \\* (n, 1) = (n, 1), and $\\mathbf{a}$ is still (n, 1). This new matrix equation can be solved efficiently with `A\\b`. We will not prove this, but solving this modified equation *is equivalent* to finding the set of parameters that minimizes the summed squared errors: $\\sum (\\mathbf{X}^T\\mathbf{X} \\cdot \\mathbf{a} - \\mathbf{X}^T\\mathbf{y})^2$.\n",
    "\n",
    "The parameters are then found by:\n",
    "\n"
   ]
  },
  {
   "cell_type": "code",
   "execution_count": 34,
   "metadata": {},
   "outputs": [
    {
     "name": "stdout",
     "output_type": "stream",
     "text": [
      "error: 'y' undefined near line 1 column 7\n"
     ]
    }
   ],
   "source": [
    "X'*X\\X'*y # Do not run this."
   ]
  },
  {
   "cell_type": "markdown",
   "metadata": {},
   "source": [
    "An alternative form is called the normal equation: $\\mathbf{a} = (\\mathbf{X}^T\\cdot\\mathbf{X})^{-1}\\mathbf{X}^T \\mathbf{y}$. This is symbolically correct, but relies on the inverse which is expensive to compute for large systems. It is not used practically, instead the equations are solved efficiently using a different algorithm.\n",
    "\n"
   ]
  },
  {
   "cell_type": "markdown",
   "metadata": {},
   "source": [
    "\n",
    "## An example of polynomial fitting\n",
    "\n"
   ]
  },
  {
   "cell_type": "markdown",
   "metadata": {},
   "source": [
    "Our goal in this example is to fit a polynomial to some time-dependent concentration data.\n",
    "\n"
   ]
  },
  {
   "cell_type": "code",
   "execution_count": 42,
   "metadata": {},
   "outputs": [],
   "source": [
    "# import numpy as np\n",
    "\n",
    "time = [0.0, 50.0, 100.0, 150.0, 200.0, 250.0, 300.0]';\n",
    "Ca = [50.0, 38.0, 30.6, 25.6, 22.2, 19.5, 17.4]'*1e-3;"
   ]
  },
  {
   "cell_type": "markdown",
   "metadata": {},
   "source": [
    "Fit a fourth order polynomial to this data and determine the confidence interval for each parameter. This data is from example 5-1 in Fogler, Elements of Chemical Reaction Engineering.\n",
    "\n",
    "We want the equation $Ca(t) = b0 + b1*t + b2*t^2 + b3*t^3$ fit to the data in the least squares sense. We can write this in a linear algebra form as: $\\mathbf{T} \\mathbf{p} = \\mathbf{Ca}$ where $\\mathbf{T}$ is a matrix of columns $[1, t, t^2, t^3]$, and $\\mathbf{p}$ is a column vector of the fitting parameters. We want to solve for the $\\mathbf{p}$ vector and estimate the confidence intervals.\n",
    "\n",
    "First, we setup the array of function values, and then we solve for the paramters.\n",
    "\n"
   ]
  },
  {
   "cell_type": "code",
   "execution_count": 53,
   "metadata": {},
   "outputs": [
    {
     "name": "stdout",
     "output_type": "stream",
     "text": [
      "X =\n",
      "\n",
      "            1            0            0            0            0\n",
      "            1           50         2500       125000      6250000\n",
      "            1          100        10000      1000000    100000000\n",
      "            1          150        22500      3375000    506250000\n",
      "            1          200        40000      8000000   1600000000\n",
      "            1          250        62500     15625000   3906250000\n",
      "            1          300        90000     27000000   8100000000\n",
      "\n"
     ]
    }
   ],
   "source": [
    "X = [time.^0, time, time.^2, time.^3, time.^4];\n",
    "\n",
    "X"
   ]
  },
  {
   "cell_type": "code",
   "execution_count": 50,
   "metadata": {},
   "outputs": [
    {
     "name": "stdout",
     "output_type": "stream",
     "text": [
      "a =\n",
      "\n",
      "   0.0498714285714\n",
      "  -0.0002744761905\n",
      "   0.0000009328571\n",
      "  -0.0000000012667\n",
      "\n"
     ]
    },
    {
     "data": {
      "image/png": "[encoded data removed]",
      "text/plain": [
       "<IPython.core.display.Image object>"
      ]
     },
     "metadata": {},
     "output_type": "display_data"
    }
   ],
   "source": [
    "a = X'*X\\(X'*Ca)\n",
    "% print(a)\n",
    "\n",
    "%matplotlib inline\n",
    "\n",
    "plot(time, Ca, 'bo', time, X * a)\n",
    "xlabel('Time')\n",
    "ylabel('Ca')\n",
    "legend(['data', 'fit'])"
   ]
  },
  {
   "cell_type": "code",
   "execution_count": 51,
   "metadata": {},
   "outputs": [
    {
     "name": "stdout",
     "output_type": "stream",
     "text": [
      "pars =\n",
      "\n",
      "  -0.0000000012667   0.0000009328571  -0.0002744761905   0.0498714285714\n",
      "\n"
     ]
    }
   ],
   "source": [
    "pars = polyfit(time, Ca, 3)"
   ]
  },
  {
   "cell_type": "markdown",
   "metadata": {},
   "source": [
    "We previously claimed that solving this equation was equivalent to minimizing the summed squared errors. Here we demonstrate that is consistent with our observation for the first parameter.\n",
    "\n"
   ]
  },
  {
   "cell_type": "code",
   "execution_count": 52,
   "metadata": {},
   "outputs": [
    {
     "name": "stdout",
     "output_type": "stream",
     "text": [
      "err = [](0x0)\n"
     ]
    },
    {
     "data": {
      "image/png": "[encoded data removed]",
      "text/plain": [
       "<IPython.core.display.Image object>"
      ]
     },
     "metadata": {},
     "output_type": "display_data"
    }
   ],
   "source": [
    "P = linspace(0.9 * a(1), 1.1 * a(1));\n",
    "\n",
    "err=[]\n",
    "for p=P\n",
    "    err(end+1)=sum((X * [p, a(2), a(3), a(4)]'- Ca).^2);\n",
    "end\n",
    "\n",
    "plot(P,err)\n",
    "\n",
    "xlabel('intercept')\n",
    "ylabel('SSE')\n",
    "legend(['SSE'])"
   ]
  },
  {
   "cell_type": "markdown",
   "metadata": {},
   "source": [
    "The key points to note are that the rank is equal to the number of parameters we are estimating, which means we have enough information to get pretty good estimates of the parameters.\n",
    "\n"
   ]
  },
  {
   "cell_type": "markdown",
   "metadata": {},
   "source": [
    "\n",
    "## Confidence intervals on the parameters\n",
    "\n"
   ]
  },
  {
   "cell_type": "markdown",
   "metadata": {},
   "source": [
    "The confidence intervals reflect the range of values we are confident the true parameter lies in. Remember we are only *estimating* these parameters from a small amount of data.\n",
    "\n",
    "The degrees of freedom is roughly equal to the number of data points minus the number of parameters.\n",
    "\n",
    "We define $\\sigma^2 = SSE / dof$ where $SSE$ is the summed squared error, and $dof$ is the degrees of freedom.\n",
    "\n",
    "The covariance matrix is defined as $(\\mathbf{X}^T \\mathbf{X})^{-1}$. Finally, we compute the standard error on the parameters as:\n",
    "\n",
    "$\\mathbf{se} = \\sqrt{diag(\\sigma^2 cov)}$.\n",
    "\n",
    "This will be an array with one element for each parameter. You can think of this standard error as the uncertainty in the mean value of each parameter.\n",
    "\n",
    "The confidence intervals are finally computed by calculating a student t-value that accounts for the additional uncertainty we have because of the small number of degrees of freedom.\n",
    "\n"
   ]
  },
  {
   "cell_type": "markdown",
   "metadata": {},
   "source": [
    "Luckily, there are already package routines to calculate this for us. "
   ]
  },
  {
   "cell_type": "code",
   "execution_count": 54,
   "metadata": {
    "scrolled": false
   },
   "outputs": [
    {
     "name": "stdout",
     "output_type": "stream",
     "text": [
      "warning: matrix singular to machine precision, rcond = 1.16815e-20\n",
      "warning: called from\n",
      "    regress at line 134 column 7\n",
      "b =\n",
      "\n",
      "   4.9990e-02\n",
      "  -2.9785e-04\n",
      "   1.3435e-06\n",
      "  -3.4848e-09\n",
      "   3.6970e-12\n",
      "\n",
      "bint =\n",
      "\n",
      "   4.9680e-02   5.0300e-02\n",
      "  -3.1546e-04  -2.8023e-04\n",
      "   1.0715e-06   1.6155e-06\n",
      "  -4.9032e-09  -2.0665e-09\n",
      "   1.3501e-12   6.0439e-12\n",
      "\n",
      "r =\n",
      "\n",
      "   0.0000097403\n",
      "  -0.0000441558\n",
      "   0.0000746753\n",
      "  -0.0000519481\n",
      "   0.0000032468\n",
      "   0.0000129870\n",
      "  -0.0000045455\n",
      "\n",
      "rint =\n",
      "\n",
      "  -0.000018059   0.000037540\n",
      "  -0.000136820   0.000048508\n",
      "   0.000028343   0.000121007\n",
      "  -0.000237276   0.000133380\n",
      "  -0.000321078   0.000327571\n",
      "  -0.000190874   0.000216848\n",
      "  -0.000050878   0.000041787\n",
      "\n",
      "stats =\n",
      "\n",
      "   9.9999e-01   3.8364e+04   2.6065e-05   5.2597e-09\n",
      "\n"
     ]
    }
   ],
   "source": [
    "pkg load statistics\n",
    "\n",
    "#also regress in Matlab\n",
    "[b, bint, r, rint, stats] = regress(Ca, X)"
   ]
  },
  {
   "cell_type": "markdown",
   "metadata": {},
   "source": [
    "# Nonlinear model fitting"
   ]
  },
  {
   "cell_type": "markdown",
   "metadata": {},
   "source": [
    "We can also fit parameters for non-linear models. Essentially, we are trying to solve the same minimization problem we did two weeks ago - vary a set of parameters to minimize the error between the function and the data. Let's demonstrate this for the linear model above."
   ]
  },
  {
   "cell_type": "code",
   "execution_count": 60,
   "metadata": {},
   "outputs": [
    {
     "name": "stdout",
     "output_type": "stream",
     "text": [
      "ans =  0.064242\n"
     ]
    }
   ],
   "source": [
    "function y = linear_model(p, x)\n",
    "    y = exp(-p(1)*x);\n",
    "end\n",
    "\n",
    "lsqcurvefit(@linear_model, [0.1],time,Ca )"
   ]
  },
  {
   "cell_type": "markdown",
   "metadata": {},
   "source": [
    "This is the same answer as with linear regression! The benefit here is that we can specify any function, such as solving an ODE for an engineering problem, or a thermodynamic model, etc."
   ]
  },
  {
   "cell_type": "markdown",
   "metadata": {},
   "source": []
  }
 ],
 "metadata": {
  "kernelspec": {
   "display_name": "Octave",
   "language": "octave",
   "name": "octave"
  },
  "language_info": {
   "file_extension": ".m",
   "help_links": [
    {
     "text": "GNU Octave",
     "url": "https://www.gnu.org/software/octave/support.html"
    },
    {
     "text": "Octave Kernel",
     "url": "https://github.com/Calysto/octave_kernel"
    },
    {
     "text": "MetaKernel Magics",
     "url": "https://github.com/calysto/metakernel/blob/master/metakernel/magics/README.md"
    }
   ],
   "mimetype": "text/x-octave",
   "name": "octave",
   "version": "4.4.1"
  },
  "org": {
   "KEYWORDS": "numpy.linalg.solve"
  }
 },
 "nbformat": 4,
 "nbformat_minor": 1
}
