{
 "cells": [
  {
   "cell_type": "code",
   "execution_count": 62,
   "metadata": {},
   "outputs": [],
   "source": [
    "set(0,'defaultAxesFontSize',20)\n",
    "set(0,'defaultLineLineWidth',5)"
   ]
  },
  {
   "cell_type": "markdown",
   "metadata": {},
   "source": [
    "Notes adapted from 06-623 Course Notes (John Kitchin, F18)"
   ]
  },
  {
   "cell_type": "markdown",
   "metadata": {},
   "source": [
    "\n",
    "# Function extrema\n",
    "\n"
   ]
  },
  {
   "cell_type": "markdown",
   "metadata": {},
   "source": [
    "It is pretty common to need to find extreme values of a function in engineering analysis. An extreme value is often a maximum or minimum in a function, and we seek them when we want to maximize a profit function, or minimize a cost function, identify a maximum safe operating condition, etc.\n",
    "\n",
    "Let's consider an example function with a graphical solution approach. We want a quantitative estimate of the minimum in this function. Example: $$y=x^2+exp(-5x^2)$$\n",
    "\n"
   ]
  },
  {
   "cell_type": "code",
   "execution_count": 64,
   "metadata": {
    "scrolled": false
   },
   "outputs": [
    {
     "data": {
      "image/png": "[encoded data removed]",
      "text/plain": [
       "<IPython.core.display.Image object>"
      ]
     },
     "metadata": {},
     "output_type": "display_data"
    }
   ],
   "source": [
    "function y=f(x)\n",
    "    y=x.^2 + exp(-5 * x.^2);\n",
    "end\n",
    "\n",
    "x = linspace(0, 2);\n",
    "y = f(x);\n",
    "plot(x, y)"
   ]
  },
  {
   "cell_type": "markdown",
   "metadata": {},
   "source": [
    "You can see there is a minimum near 0.6. We can find the minimum in a crude kind of way by finding the index of the minimum value in the y-array, and then getting the corresponding value of the x-array. You control the accuracy of this answer by the number of points you discretize the function over.\n",
    "\n"
   ]
  },
  {
   "cell_type": "code",
   "execution_count": null,
   "metadata": {},
   "outputs": [],
   "source": []
  },
  {
   "cell_type": "code",
   "execution_count": 65,
   "metadata": {},
   "outputs": [
    {
     "name": "stdout",
     "output_type": "stream",
     "text": [
      "ans =  0.52190\n"
     ]
    }
   ],
   "source": [
    "min(y)"
   ]
  },
  {
   "cell_type": "code",
   "execution_count": 67,
   "metadata": {},
   "outputs": [
    {
     "name": "stdout",
     "output_type": "stream",
     "text": [
      "C =  0.52190\n",
      "I =  29\n"
     ]
    }
   ],
   "source": [
    "[C, I] = min(y)"
   ]
  },
  {
   "cell_type": "code",
   "execution_count": 68,
   "metadata": {},
   "outputs": [
    {
     "name": "stdout",
     "output_type": "stream",
     "text": [
      "C =  0.52190\n",
      "I =  143\n",
      "ans =  0.56914\n",
      "ans =  0.52190\n"
     ]
    }
   ],
   "source": [
    "x = linspace(0, 2, 500);\n",
    "y = f(x);\n",
    "[C,I] = min(y)\n",
    "x(I)\n",
    "y(I)"
   ]
  },
  {
   "cell_type": "markdown",
   "metadata": {},
   "source": [
    "Second example: $$y=sin(x)+\\frac{1}{2}x$$"
   ]
  },
  {
   "cell_type": "code",
   "execution_count": 69,
   "metadata": {},
   "outputs": [
    {
     "name": "stdout",
     "output_type": "stream",
     "text": [
      "C = 0\n",
      "I =  1\n"
     ]
    },
    {
     "data": {
      "image/png": "[encoded data removed]",
      "text/plain": [
       "<IPython.core.display.Image object>"
      ]
     },
     "metadata": {},
     "output_type": "display_data"
    }
   ],
   "source": [
    "x1 = linspace(0, 4 * pi,200);\n",
    "y1 = sin(x1) + 0.5 * x1;\n",
    "\n",
    "[C,I] = min(y1)\n",
    "\n",
    "plot(x1, y1)\n",
    "hold all;\n",
    "plot(x1(I), y1(I), 'ro')"
   ]
  },
  {
   "cell_type": "markdown",
   "metadata": {},
   "source": [
    "What are the pros and cons of this method:\n",
    "\n",
    "Pros:\n",
    "\n",
    "1.  It is *easy*.\n",
    "2.  You *see* the whole domain you are looking at, and it is easy to see how many extrema their are\n",
    "\n",
    "Cons:\n",
    "\n",
    "1.  *Lot's* of function evaluations. Imagine if it took a long time to compute each value.\n",
    "2.  Somewhat tedious.\n",
    "3.  Not so easy to reproduce\n",
    "4.  Not scalable to large problems, your time to do this becomes a limiting factor.\n",
    "5. Finds actual minimum, not necessarily where f'(x) = 0.\n",
    "\n"
   ]
  },
  {
   "cell_type": "markdown",
   "metadata": {},
   "source": [
    "\n",
    "## Find the derivative, and solve for where it is zero\n",
    "\n"
   ]
  },
  {
   "cell_type": "markdown",
   "metadata": {},
   "source": [
    "We can also derive the first derivative:\n",
    "\n",
    "$y' = 2 * x + e^{-5 x^2} (-10 * x)$\n",
    "\n",
    "and solve it for zero using fsolve.\n",
    "\n"
   ]
  },
  {
   "cell_type": "code",
   "execution_count": 77,
   "metadata": {},
   "outputs": [
    {
     "name": "stdout",
     "output_type": "stream",
     "text": [
      "ans =  0.56735\n"
     ]
    }
   ],
   "source": [
    "function y=yp(x)\n",
    "    y=2*x + exp(-5 * x.^2) * (-10 * x);\n",
    "end\n",
    "\n",
    "fsolve(@yp,0.6)"
   ]
  },
  {
   "cell_type": "markdown",
   "metadata": {},
   "source": [
    "These two answer agree to 5 decimal places.\n",
    "\n",
    "This depends on your ability to correctly derive and implement the derivative. It is good to know you can solve this problem by more than one method. Here, we use a numerical derivative in the function instead to check our derivative. You can check the convergence of the derivative by varying the dx.\n",
    "\n"
   ]
  },
  {
   "cell_type": "code",
   "execution_count": 75,
   "metadata": {},
   "outputs": [
    {
     "name": "stdout",
     "output_type": "stream",
     "text": [
      "ans = -1.3129\n"
     ]
    }
   ],
   "source": [
    "gradient(@f,0.3, dx=1e-6)"
   ]
  },
  {
   "cell_type": "code",
   "execution_count": 76,
   "metadata": {},
   "outputs": [
    {
     "name": "stdout",
     "output_type": "stream",
     "text": [
      "x =  0.56735\n",
      "fval = -0.0000000084377\n"
     ]
    }
   ],
   "source": [
    "pkg load optim\n",
    "\n",
    "function y=ypd(x)\n",
    "    y=deriv(@f, x, dx=1e-6);\n",
    "end\n",
    "\n",
    "[x,fval] = fsolve(@ypd, 0.4)"
   ]
  },
  {
   "cell_type": "markdown",
   "metadata": {},
   "source": [
    "These look the same within tolerance. This is not a beautiful solution, but it is hard to argue with success here!\n",
    "\n"
   ]
  },
  {
   "cell_type": "markdown",
   "metadata": {},
   "source": [
    "# Method of steepest descent\n",
    "\n",
    "To use the steepest descent method to get the minimum, we use an iterative approach with:\n",
    "\n",
    "$x_{n+1} = x_n - \\alpha y'(x_n)$.\n",
    "\n",
    "where $\\alpha$ is a constant that we can adjust or we guess automatically. We have to derive these formulas if you want to use analytical derivatives:\n",
    "\n",
    "$y' = 2 * x + e^{-5 x^2} (-10 * x)$"
   ]
  },
  {
   "cell_type": "code",
   "execution_count": 89,
   "metadata": {
    "scrolled": false
   },
   "outputs": [
    {
     "name": "stdout",
     "output_type": "stream",
     "text": [
      "x0 =  0.70000\n",
      "f0 =  0.57629\n",
      "yp =  0.79594\n",
      "x0 =  0.62041\n",
      "f0 =  0.53085\n",
      "yp =  0.33535\n",
      "x0 =  0.58687\n",
      "f0 =  0.52311\n",
      "yp =  0.12504\n",
      "x0 =  0.57437\n",
      "f0 =  0.52205\n",
      "yp =  0.045091\n",
      "x0 =  0.56986\n",
      "f0 =  0.52191\n",
      "yp =  0.016122\n",
      "x0 =  0.56824\n",
      "f0 =  0.52189\n",
      "yp =  0.0057503\n",
      "x0 =  0.56767\n",
      "f0 =  0.52189\n",
      "yp =  0.0020493\n",
      "x0 =  0.56746\n",
      "f0 =  0.52189\n",
      "yp =  0.00073012\n",
      "x0 =  0.56739\n",
      "f0 =  0.52189\n",
      "yp =  0.00026010\n",
      "x0 =  0.56737\n",
      "f0 =  0.52189\n",
      "yp =  0.000092656\n",
      "x0 =  0.56736\n",
      "f0 =  0.52189\n",
      "yp =  0.000033007\n",
      "x0 =  0.56735\n",
      "f0 =  0.52189\n",
      "yp =  0.000011758\n",
      "x0 =  0.56735\n",
      "f0 =  0.52189\n",
      "yp =  0.0000041884\n",
      "x0 =  0.56735\n",
      "f0 =  0.52189\n",
      "yp =  0.0000014920\n",
      "x0 =  0.56735\n",
      "f0 =  0.52189\n",
      "yp =  0.00000053149\n",
      "x0 =  0.56735\n",
      "f0 =  0.52189\n",
      "xnew =  0.56735\n",
      "fnew =  0.52189\n",
      "yp =  0.00000053149\n",
      "i =  15\n"
     ]
    },
    {
     "data": {
      "image/png": "[encoded data removed]",
      "text/plain": [
       "<IPython.core.display.Image object>"
      ]
     },
     "metadata": {},
     "output_type": "display_data"
    }
   ],
   "source": [
    "\n",
    "x0 = 0.7\n",
    "f0 = f(x0)\n",
    "\n",
    "\n",
    "hold all\n",
    "plot(x0,f0,'o')\n",
    "x = linspace(0, 2);\n",
    "y = f(x);\n",
    "plot(x, y)\n",
    "\n",
    "for i = 1:20\n",
    "    yp = 2.*x0+exp(-5.*x0^2.)*(-10.0*x0)  # y'\n",
    "    x0 = x0 - 0.1*yp\n",
    "    f0 = f(x0)\n",
    "\n",
    "    if abs(yp) <= 1e-6\n",
    "        break\n",
    "    end\n",
    "%     x0 = xnew\n",
    "%     f0 = fnew\n",
    "    \n",
    "    plot(x0,f0,'o')\n",
    "end\n",
    "\n",
    "\n",
    "xnew, fnew, yp, i"
   ]
  },
  {
   "cell_type": "markdown",
   "metadata": {},
   "source": [
    "\n",
    "## Newton-Raphson method of minima finding\n",
    "\n"
   ]
  },
  {
   "cell_type": "markdown",
   "metadata": {},
   "source": [
    "To use the Newton-Raphson method to get the minimum, we use an iterative approach with:\n",
    "\n",
    "$x_{n+1} = x_n - \\frac{y'(x_n)}{y''(x_n)}$.\n",
    "\n",
    "We have to derive these formulas if you want to use analytical derivatives:\n",
    "\n",
    "$y' = 2 * x + e^{-5 x^2} (-10 * x)$\n",
    "\n",
    "$y'' = 2 + e^{-5 x^2} (-10 * x)^2 - 10 e^{-5 x^2}$\n",
    "\n",
    "\n"
   ]
  },
  {
   "cell_type": "code",
   "execution_count": 90,
   "metadata": {},
   "outputs": [
    {
     "name": "stdout",
     "output_type": "stream",
     "text": [
      "x0 =  2\n",
      "f0 =  4.0000\n",
      "yp =  4.0000\n",
      "ypp =  2.0000\n",
      "xnew =  0.00000082446\n",
      "fnew =  1.00000\n",
      "x0 =  0.00000082446\n",
      "f0 =  1.00000\n",
      "yp = -0.0000065957\n",
      "ypp = -8.0000\n",
      "xnew =   -7.0052e-18\n",
      "fnew =  1\n",
      "x0 =   -7.0052e-18\n",
      "f0 =  1\n",
      "yp =    5.6041e-17\n",
      "ypp = -8\n",
      "xnew = 0\n",
      "fnew =  1\n",
      "xnew = 0\n",
      "fnew =  1\n",
      "yp =    5.6041e-17\n",
      "i =  3\n"
     ]
    },
    {
     "data": {
      "image/png": "[encoded data removed]",
      "text/plain": [
       "<IPython.core.display.Image object>"
      ]
     },
     "metadata": {},
     "output_type": "display_data"
    }
   ],
   "source": [
    "\n",
    "x0 = 2.0\n",
    "f0 = f(x0)\n",
    "hold all\n",
    "plot(x0,f0,'o')\n",
    "x = linspace(0, 2);\n",
    "y = f(x);\n",
    "plot(x, y)\n",
    "\n",
    "for i = 1:15\n",
    "    yp = 2.*x0+exp(-5.*x0^2.)*(-10.0*x0)  # y'\n",
    "    ypp = 2.0+exp(-5.0*x0^2.)*(-10.0*x0)^2.0-10.0*exp(-5.0*x0^2.0) # y''\n",
    "    xnew = x0 - yp / ypp\n",
    "\n",
    "    fnew = f(xnew)\n",
    "\n",
    "    if abs(yp) <= 1e-6\n",
    "        break\n",
    "    end\n",
    "    x0 = xnew\n",
    "    f0 = fnew\n",
    "    \n",
    "    plot(xnew,fnew,'o')\n",
    "end\n",
    "\n",
    "\n",
    "xnew, fnew, yp, i"
   ]
  },
  {
   "cell_type": "markdown",
   "metadata": {},
   "source": [
    "Alternatively, we can estimate the derivatives numerically. This has the downside of numerical instability for dx that is too small, or low accuracy if it is too large, and the need to check if you made a good choice for it. On the plus side, it avoids making mistakes in the derivative derivation and implementation.\n"
   ]
  },
  {
   "cell_type": "code",
   "execution_count": 51,
   "metadata": {},
   "outputs": [
    {
     "name": "stdout",
     "output_type": "stream",
     "text": [
      "x0 =  0.60000\n",
      "f0 =  0.52530\n",
      "yp =  0.20821\n",
      "ypp =  6.2979\n",
      "xnew =  0.56694\n",
      "fnew =  0.52189\n",
      "x0 =  0.56694\n",
      "f0 =  0.52189\n",
      "yp = -0.0026482\n",
      "ypp =  6.4387\n",
      "xnew =  0.56735\n",
      "fnew =  0.52189\n",
      "x0 =  0.56735\n",
      "f0 =  0.52189\n",
      "yp = -0.00000019718\n",
      "ypp =  6.4377\n",
      "xnew =  0.56735\n",
      "fnew =  0.52189\n",
      "xnew =  0.56735\n",
      "fnew =  0.52189\n",
      "yp = -0.00000019718\n",
      "i =  3\n"
     ]
    },
    {
     "data": {
      "image/png": "[encoded data removed]",
      "text/plain": [
       "<IPython.core.display.Image object>"
      ]
     },
     "metadata": {},
     "output_type": "display_data"
    }
   ],
   "source": [
    "pkg load optim\n",
    "\n",
    "x0 = 0.6\n",
    "f0 = f(x0)\n",
    "\n",
    "hold all\n",
    "plot(x0,f0,'o')\n",
    "x = linspace(0, 2);\n",
    "y = f(x);\n",
    "plot(x, y)\n",
    "\n",
    "for i = 1:15\n",
    "    yp = deriv(@f, x0, 1e-6, 2, 1)  # y'\n",
    "    ypp = deriv(@f, x0, 1e-6, 2, 2) # y''\n",
    "    xnew = x0 - yp / ypp\n",
    "    fnew = f(xnew)\n",
    "\n",
    "    if abs(yp) <= 1e-6\n",
    "        break\n",
    "    end\n",
    "    \n",
    "    x0 = xnew\n",
    "    f0 = fnew\n",
    "    \n",
    "    plot(xnew,fnew,'o')\n",
    "\n",
    "end\n",
    "\n",
    "\n",
    "xnew, fnew, yp, i"
   ]
  },
  {
   "cell_type": "markdown",
   "metadata": {},
   "source": [
    "This answer also agrees to at least 5 decimal places. This is the gist of what happens in fsolve.\n",
    "\n",
    "As we have seen many times, finding minima is such a common task that there are dedicated functions available for doing it. One of the is `fminsearch`. This has a similar signature as `fsolve`, you give it a function and an initial guess, and it iteratively searches for a minimum.\n",
    "\n"
   ]
  },
  {
   "cell_type": "markdown",
   "metadata": {},
   "source": [
    "\n",
    "# fminsearch\n",
    "\n"
   ]
  },
  {
   "cell_type": "markdown",
   "metadata": {},
   "source": [
    "Here is the basic use of fmin. As always, we should plot the answer where feasible to make sure it is the minimum we wanted.\n",
    "\n"
   ]
  },
  {
   "cell_type": "code",
   "execution_count": 91,
   "metadata": {},
   "outputs": [
    {
     "name": "stdout",
     "output_type": "stream",
     "text": [
      "guess =  0.50000\n",
      "x =  0.56732\n",
      "fval =  0.52189\n",
      "exitflag =  1\n",
      "output =\n",
      "\n",
      "  scalar structure containing the fields:\n",
      "\n",
      "    iterations =  15\n",
      "    funcCount =  38\n",
      "    algorithm = Nelder-Mead simplex direct search\n",
      "    message = Simplex size 6.1035e-05 <= 1.0000e-04 and step in function value 3.6152e-10 <= 1.0000e-07...quitting\n",
      "\n",
      "\n"
     ]
    }
   ],
   "source": [
    "function f=f(x)\n",
    "    f=x.^2 + exp(-5 * x.^2);\n",
    "end\n",
    "\n",
    "guess = 0.5\n",
    "[x,fval,exitflag,output] = fminsearch(@f, guess)"
   ]
  },
  {
   "cell_type": "code",
   "execution_count": 92,
   "metadata": {},
   "outputs": [
    {
     "name": "stdout",
     "output_type": "stream",
     "text": [
      "output =\n",
      "\n",
      "  scalar structure containing the fields:\n",
      "\n",
      "    iterations =  15\n",
      "    funcCount =  38\n",
      "    algorithm = Nelder-Mead simplex direct search\n",
      "    message = Simplex size 6.1035e-05 <= 1.0000e-04 and step in function value 3.6152e-10 <= 1.0000e-07...quitting\n",
      "\n",
      "\n"
     ]
    }
   ],
   "source": [
    "output"
   ]
  },
  {
   "cell_type": "code",
   "execution_count": 93,
   "metadata": {},
   "outputs": [
    {
     "data": {
      "image/png": "[encoded data removed]",
      "text/plain": [
       "<IPython.core.display.Image object>"
      ]
     },
     "metadata": {},
     "output_type": "display_data"
    }
   ],
   "source": [
    "xrange = linspace(0, 2);\n",
    "y = f(xrange);\n",
    "\n",
    "hold all;\n",
    "plot(xrange, y, 'b-')\n",
    "plot(x, fval, 'ro')\n",
    "xlabel('x')\n",
    "ylabel('y')\n",
    "legend('f(x)', 'fmin')"
   ]
  },
  {
   "cell_type": "markdown",
   "metadata": {},
   "source": [
    "Note this answer is only the same in the first 4 decimal places. Remember that these iterative approaches stop when a tolerance is met. Check the defaults on fmin!\n",
    "\n"
   ]
  },
  {
   "cell_type": "markdown",
   "metadata": {},
   "source": [
    "\n",
    "## Multiple minima\n",
    "\n"
   ]
  },
  {
   "cell_type": "markdown",
   "metadata": {},
   "source": [
    "It is possible for functions to have more than one minimum. In this case, your guess will determine which minimum is found. Here is an example where there is a minimum near 2.2, and one near 4.5.\n",
    "\n"
   ]
  },
  {
   "cell_type": "code",
   "execution_count": 55,
   "metadata": {},
   "outputs": [
    {
     "data": {
      "image/png": "[encoded data removed]",
      "text/plain": [
       "<IPython.core.display.Image object>"
      ]
     },
     "metadata": {},
     "output_type": "display_data"
    }
   ],
   "source": [
    "function h=h(x)\n",
    "    h= 2 + cos(x) + cos(2*x - 0.5) / 2;\n",
    "end\n",
    "\n",
    "x = linspace(0, 20 * pi, 400);\n",
    "\n",
    "plot(x, h(x), 'bo-')\n",
    "xlabel('x')\n",
    "ylabel('h(x)')"
   ]
  },
  {
   "cell_type": "markdown",
   "metadata": {},
   "source": [
    "This guess finds the one near 2.2:\n",
    "\n"
   ]
  },
  {
   "cell_type": "code",
   "execution_count": 94,
   "metadata": {},
   "outputs": [
    {
     "name": "stdout",
     "output_type": "stream",
     "text": [
      "ans =  2.2611\n"
     ]
    }
   ],
   "source": [
    "fminsearch(@h, 2)"
   ]
  },
  {
   "cell_type": "markdown",
   "metadata": {},
   "source": [
    "and this guess finds the one near 4.5\n",
    "\n"
   ]
  },
  {
   "cell_type": "code",
   "execution_count": 106,
   "metadata": {},
   "outputs": [
    {
     "name": "stdout",
     "output_type": "stream",
     "text": [
      "ans =  2.2610\n"
     ]
    }
   ],
   "source": [
    "fminsearch(@h, 3.8)"
   ]
  },
  {
   "cell_type": "code",
   "execution_count": 95,
   "metadata": {},
   "outputs": [
    {
     "name": "stdout",
     "output_type": "stream",
     "text": [
      "ans =  8.5444\n"
     ]
    }
   ],
   "source": [
    "fminsearch(@h, 4)"
   ]
  },
  {
   "cell_type": "markdown",
   "metadata": {},
   "source": [
    "You have to decide which one is better for the problem at hand. If this were a cost function, the one at the lower cost is probably better! Note that all we can say here is which one is lower in the interval we are looking at. By inspection of the function, you can see it will be periodic, so there will be many other minima that also exist.\n",
    "\n"
   ]
  },
  {
   "cell_type": "markdown",
   "metadata": {},
   "source": [
    "\n",
    "## Finding maxima\n",
    "\n"
   ]
  },
  {
   "cell_type": "markdown",
   "metadata": {},
   "source": [
    "`minimize` is for finding *minima*. We can use it to find maxima though, but finding the *minima* of $-f(x)$. You can see here that when we plot $-h(x)$ the minima become maxima, and vice-versa. Now you can see there are two definite minima, one near zero, and one near 3.5, which correspond to the maxima of $h(x)$.\n",
    "\n"
   ]
  },
  {
   "cell_type": "code",
   "execution_count": 110,
   "metadata": {},
   "outputs": [
    {
     "data": {
      "image/png": "[encoded data removed]",
      "text/plain": [
       "<IPython.core.display.Image object>"
      ]
     },
     "metadata": {},
     "output_type": "display_data"
    }
   ],
   "source": [
    "\n",
    "x = linspace(0, 20 * pi, 400);\n",
    "\n",
    "plot(x, -h(x))\n",
    "xlabel('x')\n",
    "ylabel('-h(x)')"
   ]
  },
  {
   "cell_type": "markdown",
   "metadata": {},
   "source": [
    "Here is an example to find the maximum near 3.5.\n",
    "\n"
   ]
  },
  {
   "cell_type": "code",
   "execution_count": 111,
   "metadata": {},
   "outputs": [
    {
     "data": {
      "image/png": "[encoded data removed]",
      "text/plain": [
       "<IPython.core.display.Image object>"
      ]
     },
     "metadata": {},
     "output_type": "display_data"
    }
   ],
   "source": [
    "function h=h(x)\n",
    "    h=(2 + cos(x) + cos(2*x - 0.5) / 2);\n",
    "end\n",
    "\n",
    "function h=mh(x)\n",
    "    h=-h(x);\n",
    "end\n",
    "\n",
    "[xmin,fval] = fminsearch(@mh, 3.5);  \n",
    "h(xmin);\n",
    "\n",
    "plot(x, h(x))\n",
    "hold all;\n",
    "plot(xmin, h(xmin), 'ro')\n",
    "xlabel('x')\n",
    "ylabel('h(x)')"
   ]
  },
  {
   "cell_type": "markdown",
   "metadata": {},
   "source": [
    "Once again, here you have to decide which maximum is relevant\n",
    "\n"
   ]
  },
  {
   "cell_type": "markdown",
   "metadata": {},
   "source": [
    "# Shooting method example"
   ]
  },
  {
   "cell_type": "code",
   "execution_count": 112,
   "metadata": {},
   "outputs": [
    {
     "name": "stdout",
     "output_type": "stream",
     "text": [
      "L =  200\n",
      "H =  200\n"
     ]
    },
    {
     "data": {
      "image/png": "[encoded data removed]",
      "text/plain": [
       "<IPython.core.display.Image object>"
      ]
     },
     "metadata": {},
     "output_type": "display_data"
    }
   ],
   "source": [
    "function yprime = cannonball(t, y)\n",
    "    g=9.8; #m/s^2\n",
    "    gamma=0.1;\n",
    "    yprime = [y(3);\n",
    "            y(4);\n",
    "            -gamma*y(3);\n",
    "            -gamma*y(4)-g];\n",
    "end\n",
    "\n",
    "L=200\n",
    "H=200\n",
    "\n",
    "sol = ode45(@cannonball,[0,L],[0,H,32,27.5]);\n",
    "plot(sol.y(1,:),sol.y(2,:),'--k')\n",
    "xlim([0,L])\n",
    "ylim([0,H*2])\n",
    "hold all\n",
    "plot(0,H,'ok')\n",
    "plot(L,0,'or')\n",
    "xlabel('Distance x')\n",
    "ylabel('Height H')"
   ]
  },
  {
   "cell_type": "code",
   "execution_count": 116,
   "metadata": {},
   "outputs": [
    {
     "name": "stdout",
     "output_type": "stream",
     "text": [
      "v0 =\n",
      "\n",
      "    23.130   105.547\n",
      "\n"
     ]
    },
    {
     "data": {
      "image/png": "[encoded data removed]",
      "text/plain": [
       "<IPython.core.display.Image object>"
      ]
     },
     "metadata": {},
     "output_type": "display_data"
    }
   ],
   "source": [
    "function yprime = cannonball(t, y)\n",
    "    g=9.8; #m/s^2\n",
    "    gamma=0.1;\n",
    "    yprime = [y(3);\n",
    "            y(4);\n",
    "            -gamma*y(3);\n",
    "            -gamma*y(4)-g];\n",
    "end\n",
    "\n",
    "function error_out = shooting_method(x)\n",
    "    L=200;\n",
    "    H=200;\n",
    "    vx0=x(1);\n",
    "    vz0=x(2);\n",
    "    \n",
    "    #Solve the ODE\n",
    "    sol = ode45(@cannonball,linspace(0,20,200),[0,H,vx0,vz0]);\n",
    "    \n",
    "    #Find the closest point the cannonball gets to the target\n",
    "    # and return the deviation from that.\n",
    "%     error_out=min((sol.y(2,:)-0).^2+\n",
    "%                     (sol.y(1,:)-200).^2);\n",
    "    error_out=(sol.y(2,end)-0).^2+(sol.y(1,end)-200).^2;\n",
    "end\n",
    "\n",
    "#Optimize this shooting method to find the best initial conditions\n",
    "v0 = fminsearch(@shooting_method,[5,40])\n",
    "\n",
    "#With the optimized parameters, integrate so we can see the final solution\n",
    "sol = ode45(@cannonball,linspace(0,20,200),[0,H,v0(1),v0(2)]);\n",
    "\n",
    "#Plot the solution\n",
    "plot(sol.y(1,:),sol.y(2,:),'--k')\n",
    "xlim([0,L])\n",
    "ylim([0,H*2])\n",
    "hold all\n",
    "plot(0,H,'ok')\n",
    "plot(L,0,'or')\n",
    "xlabel('Distance x')\n",
    "ylabel('Height H')"
   ]
  },
  {
   "cell_type": "markdown",
   "metadata": {},
   "source": [
    "\n",
    "# Summary\n",
    "\n"
   ]
  },
  {
   "cell_type": "markdown",
   "metadata": {},
   "source": [
    "Today we introduced the concept of finding minima/maxima in functions. This is an iterative process, much like finding the roots of a nonlinear function. You can think of it as finding the zeros of the derivative of a nonlinear function! This method is the root of many important optimization problems including regression.\n",
    "\n",
    "`scipy.optimize.minimize` is the preferred function for doing minimization. There are other more specific ones described at [https://docs.scipy.org/doc/scipy/reference/optimize.html](https://docs.scipy.org/doc/scipy/reference/optimize.html), but `minimize` has a more consistent interface and provides almost all the functionality of those other methods.\n",
    "\n",
    "Next time, we will look at how to apply minimization to regression problems.\n",
    "\n"
   ]
  }
 ],
 "metadata": {
  "kernelspec": {
   "display_name": "Octave",
   "language": "octave",
   "name": "octave"
  },
  "language_info": {
   "file_extension": ".m",
   "help_links": [
    {
     "text": "GNU Octave",
     "url": "https://www.gnu.org/software/octave/support.html"
    },
    {
     "text": "Octave Kernel",
     "url": "https://github.com/Calysto/octave_kernel"
    },
    {
     "text": "MetaKernel Magics",
     "url": "https://github.com/calysto/metakernel/blob/master/metakernel/magics/README.md"
    }
   ],
   "mimetype": "text/x-octave",
   "name": "octave",
   "version": "4.4.1"
  },
  "org": {
   "KEYWORDS": "scipy.optimize.minimize"
  }
 },
 "nbformat": 4,
 "nbformat_minor": 1
}
