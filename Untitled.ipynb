{
 "cells": [
  {
   "cell_type": "code",
   "execution_count": 1,
   "metadata": {},
   "outputs": [
    {
     "name": "stdout",
     "output_type": "stream",
     "text": [
      "error: package odepkg is not installed\n",
      "error: called from\n",
      "    load_packages at line 41 column 7\n",
      "    pkg at line 457 column 7\n"
     ]
    }
   ],
   "source": []
  },
  {
   "cell_type": "code",
   "execution_count": 5,
   "metadata": {},
   "outputs": [
    {
     "name": "stdout",
     "output_type": "stream",
     "text": [
      "error: __ode15__: support for sundials_ida, sundials_nvecserial was unavailable or disabled when Octave was built\n",
      "error: called from\n",
      "    ode15s at line 316 column 17\n"
     ]
    }
   ],
   "source": [
    "function yprime=diff_eq(t,y)\n",
    "    yprime=[-80.6*y(1)+119.4*y(2);\n",
    "        79.6*y(1)-120.4*y(2)];\n",
    "end\n",
    "sudo ap\n",
    "\n",
    "ode15s(@diff_eq,[0,1],[1;2])"
   ]
  },
  {
   "cell_type": "code",
   "execution_count": null,
   "metadata": {},
   "outputs": [],
   "source": []
  }
 ],
 "metadata": {
  "kernelspec": {
   "display_name": "Octave",
   "language": "octave",
   "name": "octave"
  },
  "language_info": {
   "file_extension": ".m",
   "help_links": [
    {
     "text": "GNU Octave",
     "url": "https://www.gnu.org/software/octave/support.html"
    },
    {
     "text": "Octave Kernel",
     "url": "https://github.com/Calysto/octave_kernel"
    },
    {
     "text": "MetaKernel Magics",
     "url": "https://github.com/calysto/metakernel/blob/master/metakernel/magics/README.md"
    }
   ],
   "mimetype": "text/x-octave",
   "name": "octave",
   "version": "4.4.1"
  }
 },
 "nbformat": 4,
 "nbformat_minor": 2
}
