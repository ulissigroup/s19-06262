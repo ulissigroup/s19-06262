{
 "cells": [
  {
   "cell_type": "markdown",
   "metadata": {},
   "source": [
    "Set default font size to make things look prettier"
   ]
  },
  {
   "cell_type": "code",
   "execution_count": null,
   "metadata": {},
   "outputs": [],
   "source": [
    "set(0,'defaultAxesFontSize',20)"
   ]
  },
  {
   "cell_type": "markdown",
   "metadata": {},
   "source": [
    "# Taylor Series Example"
   ]
  },
  {
   "cell_type": "markdown",
   "metadata": {},
   "source": [
    "Simple approximation to f(x)=exp(x)"
   ]
  },
  {
   "cell_type": "code",
   "execution_count": null,
   "metadata": {},
   "outputs": [],
   "source": [
    "clear; %% clear exisiting workspace\n",
    "\n",
    "function y = taylor_exp(x,N)\n",
    "    y=1.0;\n",
    "    for n=1:N\n",
    "        y = y + x.^n/factorial(n);\n",
    "    end\n",
    "end\n",
    "    \n",
    "taylor_exp(2,1)"
   ]
  },
  {
   "cell_type": "markdown",
   "metadata": {},
   "source": [
    "Plot the approximation to f(x)"
   ]
  },
  {
   "cell_type": "code",
   "execution_count": null,
   "metadata": {},
   "outputs": [],
   "source": [
    "hold on\n",
    "x = linspace(0,2,100);\n",
    "for n=1:5\n",
    "    plot(x,taylor_exp(x,n),'--')\n",
    "end\n",
    "xlabel('x')\n",
    "ylabel('f=exp(x)')\n",
    "\n",
    "plot(x,exp(x),'r')"
   ]
  },
  {
   "cell_type": "markdown",
   "metadata": {},
   "source": [
    "Error for the approximation to f(x=2) as a function of the number of terms"
   ]
  },
  {
   "cell_type": "code",
   "execution_count": null,
   "metadata": {},
   "outputs": [],
   "source": [
    "hold on\n",
    "x=2\n",
    "for n=1:30\n",
    "    semilogy(n,abs(exp(x)-taylor_exp(x,n)),'ok')\n",
    "end\n",
    "xlabel('Terms in Taylor Series')\n",
    "ylabel('abs[f(x=2)-exp(x=2)]')"
   ]
  },
  {
   "cell_type": "markdown",
   "metadata": {},
   "source": [
    "# Simple Euler scheme example"
   ]
  },
  {
   "cell_type": "code",
   "execution_count": null,
   "metadata": {},
   "outputs": [],
   "source": [
    "clear;\n",
    "hold on;\n",
    "\n",
    "y=1;\n",
    "t=0;\n",
    "plot(t,y,'ok')\n",
    "\n",
    "dt=1/2;\n",
    "tf=2;\n",
    "\n",
    "while t<tf\n",
    "    t=t+dt\n",
    "    yprime=-y\n",
    "    y=yprime*dt+y\n",
    "    plot(t,y,'ok')\n",
    "end\n",
    "\n",
    "xlabel('t')\n",
    "ylabel('Numerical Sol''n to dy/dt=-y, y(t=0)=1')"
   ]
  },
  {
   "cell_type": "markdown",
   "metadata": {},
   "source": [
    "Let's compare to the real solution"
   ]
  },
  {
   "cell_type": "code",
   "execution_count": null,
   "metadata": {},
   "outputs": [],
   "source": [
    "clear;\n",
    "hold on;\n",
    "\n",
    "y=1;\n",
    "t=0;\n",
    "plot(t,y,'ok')\n",
    "\n",
    "dt=1/2;\n",
    "tf=2;\n",
    "\n",
    "while t<tf\n",
    "    t=t+dt\n",
    "    yprime=-y\n",
    "    y=yprime*dt+y\n",
    "    plot(t,y,'ok')\n",
    "end\n",
    "\n",
    "t=linspace(0,tf,100);\n",
    "\n",
    "plot(t,exp(-t),'k-')\n",
    "xlabel('t')\n",
    "ylabel('y')"
   ]
  },
  {
   "cell_type": "markdown",
   "metadata": {},
   "source": [
    "What happens if we change the step size?"
   ]
  },
  {
   "cell_type": "code",
   "execution_count": null,
   "metadata": {},
   "outputs": [],
   "source": [
    "clear;\n",
    "hold on;\n",
    "\n",
    "y=1;\n",
    "t=0;\n",
    "plot(t,y,'ok')\n",
    "\n",
    "dt=.01;\n",
    "tf=2;\n",
    "\n",
    "while t<tf\n",
    "    t=t+dt;\n",
    "    yprime=-y;\n",
    "    y=yprime*dt+y;\n",
    "    plot(t,y,'ok')\n",
    "end\n",
    "\n",
    "t=linspace(0,tf,100);\n",
    "\n",
    "plot(t,exp(-t),'k-')\n",
    "xlabel('t')\n",
    "ylabel('y')"
   ]
  },
  {
   "cell_type": "code",
   "execution_count": null,
   "metadata": {},
   "outputs": [],
   "source": [
    "clear;\n",
    "hold on;\n",
    "\n",
    "function solve_example(dt)\n",
    "    t=0;\n",
    "    y=1;\n",
    "    tf=2;\n",
    "\n",
    "    while t<tf\n",
    "        t=t+dt;\n",
    "        yprime=-y;\n",
    "        y=yprime*dt+y;\n",
    "    end\n",
    "    loglog(dt,abs(y-exp(-t)),'ok')\n",
    "end\n",
    "\n",
    "for dt=[1,.5,.1,.05,.01]\n",
    "    solve_example(dt)\n",
    "end\n",
    "\n",
    "%% Plot a simple -1 log scaling to show the error drops\n",
    "dt=logspace(-2,0);\n",
    "plot(dt,dt/10,'k--')\n",
    "xlabel('dt')\n",
    "ylabel('y(t=2)-exp(-2)')"
   ]
  },
  {
   "cell_type": "markdown",
   "metadata": {},
   "source": [
    "# Modified Euler (second order derivatives)"
   ]
  },
  {
   "cell_type": "code",
   "execution_count": null,
   "metadata": {},
   "outputs": [],
   "source": [
    "clear;\n",
    "hold on;\n",
    "\n",
    "%%Euler's method (for comparison)\n",
    "y=1;\n",
    "t=0;\n",
    "plot(t,y,'ok')\n",
    "\n",
    "dt=1/2;\n",
    "tf=2;\n",
    "\n",
    "while t<tf\n",
    "    t=t+dt;\n",
    "    yprime=-y;\n",
    "    y=yprime*dt+y;\n",
    "    plot(t,y,'ok')\n",
    "end\n",
    "\n",
    "t=linspace(0,tf,100);\n",
    "\n",
    "plot(t,exp(-t),'k-')\n",
    "xlabel('t')\n",
    "ylabel('y')\n",
    "\n",
    "%% Modified method\n",
    "y=1;\n",
    "t=0;\n",
    "plot(t,y,'ok')\n",
    "\n",
    "dt=1/2;\n",
    "tf=2;\n",
    "\n",
    "while t<tf\n",
    "    t=t+dt\n",
    "    yprime=-y\n",
    "    yprimeprime=y\n",
    "    y=y+yprime*dt+yprimeprime*dt^2/2\n",
    "    plot(t,y,'*k')\n",
    "end\n",
    "\n",
    "t=linspace(0,tf,100);\n",
    "\n",
    "plot(t,exp(-t),'k-')\n",
    "xlabel('t')\n",
    "ylabel('y')"
   ]
  },
  {
   "cell_type": "code",
   "execution_count": null,
   "metadata": {},
   "outputs": [],
   "source": [
    "clear;\n",
    "hold on;\n",
    "\n",
    "function solve_example(dt)\n",
    "    t=0;\n",
    "    y=1;\n",
    "    tf=2;\n",
    "\n",
    "    while t<tf\n",
    "        t=t+dt;\n",
    "        yprime=-y;\n",
    "        y=yprime*dt+y;\n",
    "    end\n",
    "    loglog(dt,abs(y-exp(-t)),'ok')\n",
    "end\n",
    "\n",
    "function solve_example_secondorder(dt)\n",
    "    t=0;\n",
    "    y=1;\n",
    "    tf=2;\n",
    "\n",
    "    while t<tf\n",
    "        t=t+dt;\n",
    "        yprime=-y;\n",
    "        yprimeprime=y;\n",
    "        y=y+yprime*dt+yprimeprime*dt^2/2;\n",
    "    end\n",
    "    loglog(dt,abs(y-exp(-t)),'ok')\n",
    "end\n",
    "\n",
    "for dt=[1,.5,.1,.05,.01]\n",
    "    solve_example(dt)\n",
    "    solve_example_secondorder(dt)\n",
    "end\n",
    "\n",
    "%% Plot a simple -1 log scaling to show the error drops\n",
    "dt=logspace(-2,0);\n",
    "plot(dt,dt/10,'k--')\n",
    "plot(dt,dt.^2/10,'k--')\n",
    "\n",
    "xlabel('dt')\n",
    "ylabel('y(t=2)-exp(-2)')"
   ]
  },
  {
   "cell_type": "markdown",
   "metadata": {},
   "source": [
    "Finally, let's see how far down we can push this. This will take a while."
   ]
  },
  {
   "cell_type": "code",
   "execution_count": null,
   "metadata": {},
   "outputs": [],
   "source": [
    "clear;\n",
    "hold on;\n",
    "\n",
    "function solve_example(dt)\n",
    "    t=0;\n",
    "    y=1;\n",
    "    tf=2;\n",
    "\n",
    "    while t<tf\n",
    "        t=t+dt;\n",
    "        yprime=-y;\n",
    "        y=yprime*dt+y;\n",
    "    end\n",
    "    loglog(dt,abs(y-exp(-t)),'ok')\n",
    "end\n",
    "\n",
    "function solve_example_secondorder(dt)\n",
    "    t=0;\n",
    "    y=1;\n",
    "    tf=2;\n",
    "\n",
    "    while t<tf\n",
    "        t=t+dt;\n",
    "        yprime=-y;\n",
    "        yprimeprime=y;\n",
    "        y=y+yprime*dt+yprimeprime*dt^2/2;\n",
    "    end\n",
    "    loglog(dt,abs(y-exp(-t)),'ok')\n",
    "end\n",
    "\n",
    "for dt=logspace(-7,0,5)\n",
    "    solve_example_secondorder(dt)\n",
    "end\n",
    "\n",
    "%% Plot a simple -1 log scaling to show the error drops\n",
    "dt=logspace(-7,0);\n",
    "plot(dt,dt.^2/10,'k--')\n",
    "\n",
    "xlabel('dt')\n",
    "ylabel('y(t=2)-exp(-2)')"
   ]
  },
  {
   "cell_type": "markdown",
   "metadata": {},
   "source": [
    "# Mid-point method"
   ]
  },
  {
   "cell_type": "code",
   "execution_count": null,
   "metadata": {},
   "outputs": [],
   "source": [
    "clear;\n",
    "hold on;\n",
    "\n",
    "%%Euler's method (for comparison)\n",
    "y=1;\n",
    "t=0;\n",
    "plot(t,y,'ok')\n",
    "\n",
    "dt=1/2;\n",
    "tf=2;\n",
    "\n",
    "while t<tf\n",
    "    t=t+dt;\n",
    "    yprime=-y;\n",
    "    y=yprime*dt+y;\n",
    "    plot(t,y,'ok')\n",
    "end\n",
    "\n",
    "t=linspace(0,tf,100);\n",
    "\n",
    "plot(t,exp(-t),'k-')\n",
    "xlabel('t')\n",
    "ylabel('y')\n",
    "\n",
    "%% Mid-point method\n",
    "y=1;\n",
    "t=0;\n",
    "plot(t,y,'ok')\n",
    "\n",
    "dt=1/2;\n",
    "tf=2;\n",
    "\n",
    "while t<tf\n",
    "    t=t+dt\n",
    "    yprime=-y\n",
    "    yN12=y+dt/2*yprime\n",
    "    yprimeN12=-yN12\n",
    "    y=y+dt*yprimeN12\n",
    "    plot(t,y,'>k')\n",
    "end\n",
    "\n",
    "t=linspace(0,tf,100);\n",
    "\n",
    "plot(t,exp(-t),'k-')\n",
    "xlabel('t')\n",
    "ylabel('y')"
   ]
  },
  {
   "cell_type": "code",
   "execution_count": null,
   "metadata": {},
   "outputs": [],
   "source": []
  }
 ],
 "metadata": {
  "kernelspec": {
   "display_name": "Octave",
   "language": "octave",
   "name": "octave"
  },
  "language_info": {
   "file_extension": ".m",
   "help_links": [
    {
     "text": "GNU Octave",
     "url": "https://www.gnu.org/software/octave/support.html"
    },
    {
     "text": "Octave Kernel",
     "url": "https://github.com/Calysto/octave_kernel"
    },
    {
     "text": "MetaKernel Magics",
     "url": "https://github.com/calysto/metakernel/blob/master/metakernel/magics/README.md"
    }
   ],
   "mimetype": "text/x-octave",
   "name": "octave",
   "version": "4.4.1"
  }
 },
 "nbformat": 4,
 "nbformat_minor": 2
}
