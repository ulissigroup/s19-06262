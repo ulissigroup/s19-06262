{
 "cells": [
  {
   "cell_type": "code",
   "execution_count": 1,
   "metadata": {},
   "outputs": [],
   "source": [
    "pkg load statistics"
   ]
  },
  {
   "cell_type": "markdown",
   "metadata": {},
   "source": [
    "Most of the models you have covered in your chemical engineering classes are focused on deterministic models:\n",
    "- Definition: Mathematical model in which outcomes are precisely determined through known relationships among states and events, without any room for random variation. In such models, a given input will always produce the same output, such as in a known chemical reaction. \n",
    "\n",
    "However real life is often not deterministic, due to factors outside of our control:\n",
    "- We have a deterministic model, but we aren't sure about the values of our parameters\n",
    "- The model itself might be stochastic (random), such as chemical kinetics at very small concentrations\n",
    "- We may be modeling a process with an assumed model, but that model may be wrong or one of a variety of possible models\n",
    "\n",
    "Some of the most common questions we face as chemical engineers:\n",
    "- Given a model with parameters, and some uncertainty in those values, what is the likelihood of various outcomes (getting conversion about 90%, making X dollars in profit, etc)\n",
    "- Given a model and experimental data, does the model explain the data?\n",
    "- Given a model with unknown parameters and experimental data, what are the likely values of those parameters?"
   ]
  },
  {
   "cell_type": "markdown",
   "metadata": {},
   "source": [
    "# Simple distributions"
   ]
  },
  {
   "cell_type": "markdown",
   "metadata": {},
   "source": [
    "## Discrete distributions\n",
    "\n",
    "Discrete distributions describe the probability of one of a number of discrete events happening. \n"
   ]
  },
  {
   "cell_type": "markdown",
   "metadata": {},
   "source": [
    "\n",
    "###  Example 1: flipping a coin\n",
    "- p(heads) = 1/2\n",
    "- p(tails) = 1/2\n",
    "\n",
    "There are only two possibilities - heads or tails. We call p(x) 'the probability of x' for a single event. In this case, we have assumed that we know the probabilty of those two events. "
   ]
  },
  {
   "cell_type": "code",
   "execution_count": 2,
   "metadata": {},
   "outputs": [
    {
     "name": "stdout",
     "output_type": "stream",
     "text": [
      "ans =  1\n"
     ]
    }
   ],
   "source": [
    "# Simple coin flip analysis\n",
    "\n",
    "function result = coin_flip()\n",
    "\n",
    "    # Sample from a uniform distribution\n",
    "    random_uniform_sample = rand();\n",
    "    \n",
    "    if random_uniform_sample>0.5\n",
    "        result=1;\n",
    "    else\n",
    "        result=0;\n",
    "    end\n",
    "end\n",
    "\n",
    "coin_flip()"
   ]
  },
  {
   "cell_type": "markdown",
   "metadata": {},
   "source": [
    "Being able to sample from a distribution is not very satisfying. We often want to plot these. I'm sure you've all seen histograms before. "
   ]
  },
  {
   "cell_type": "code",
   "execution_count": 3,
   "metadata": {},
   "outputs": [
    {
     "data": {
      "image/png": "[encoded data removed]",
      "text/plain": [
       "<IPython.core.display.Image object>"
      ]
     },
     "metadata": {},
     "output_type": "display_data"
    }
   ],
   "source": [
    "res = arrayfun(@coin_flip, 0:50);\n",
    "\n",
    "hist(res,4)"
   ]
  },
  {
   "cell_type": "markdown",
   "metadata": {},
   "source": [
    "Notice that this histogram is stochastic - every time you run it you get a different result. We'll come back to this."
   ]
  },
  {
   "cell_type": "markdown",
   "metadata": {},
   "source": [
    "### Weighted dice"
   ]
  },
  {
   "cell_type": "markdown",
   "metadata": {},
   "source": [
    "Let's say we have a 6-sided die , where the 6 has a 20% chance of being rolled, and the 1-5 have equal chances otherwise(80/6=16% each)"
   ]
  },
  {
   "cell_type": "code",
   "execution_count": 4,
   "metadata": {},
   "outputs": [
    {
     "data": {
      "image/png": "[encoded data removed]",
      "text/plain": [
       "<IPython.core.display.Image object>"
      ]
     },
     "metadata": {},
     "output_type": "display_data"
    }
   ],
   "source": [
    "# Simple coin flip analysis\n",
    "\n",
    "function result = roll_dice()\n",
    "\n",
    "    # Sample from a uniform distribution\n",
    "    random_uniform_sample = rand()*100;\n",
    "\n",
    "    if random_uniform_sample<16\n",
    "        result=1;\n",
    "    elseif random_uniform_sample<32\n",
    "        result=2;\n",
    "    elseif random_uniform_sample<48\n",
    "        result=3;\n",
    "    elseif random_uniform_sample<64\n",
    "        result=4;\n",
    "    elseif random_uniform_sample<80\n",
    "        result=5;\n",
    "    else \n",
    "        result=6;\n",
    "    end\n",
    "end\n",
    "\n",
    "res = arrayfun(@roll_dice, 0:50);\n",
    "\n",
    "hist(res,12)"
   ]
  },
  {
   "cell_type": "markdown",
   "metadata": {},
   "source": [
    "This histogram is also stochastic but has more discrete possibilities."
   ]
  },
  {
   "cell_type": "markdown",
   "metadata": {},
   "source": [
    "## Continuous Distribution"
   ]
  },
  {
   "cell_type": "markdown",
   "metadata": {},
   "source": [
    "Many of the variables we are interested in can take on any value in a continuous range. For example temperature can be 273.15 or 278.0 or 273.16, or 273.1666. We can't say the probability that the temperature will be exactly 273.000000000000000(infinite zeros) K. Instead, what we can say is the probability that it will be in a range. We define the probability distribution function (PDF) $f(x)$\n",
    "$$P[a\\leq X\\leq b] = \\int_a^b f(x) dx$$\n",
    "We can also define the cumulative distribution function:\n",
    "$$ F_X(x) = P(X<x)=\\int_{-\\infty}^xf_X(t)dt$$"
   ]
  },
  {
   "cell_type": "markdown",
   "metadata": {},
   "source": [
    "### Gaussian distribution\n",
    "\n",
    "The most common continuous distribution is the Gaussian distribution function, where $f(x)$ is \n",
    "\n",
    "$$f(x)=\\frac{1}{\\sqrt{2\\pi}}e^{-x^2/2}$$"
   ]
  },
  {
   "cell_type": "code",
   "execution_count": 5,
   "metadata": {},
   "outputs": [
    {
     "data": {
      "image/png": "[encoded data removed]",
      "text/plain": [
       "<IPython.core.display.Image object>"
      ]
     },
     "metadata": {},
     "output_type": "display_data"
    }
   ],
   "source": [
    "#Plot the gaussian distribution function\n",
    "\n",
    "x = linspace(-4,4);\n",
    "f = 1/sqrt(2*pi)*exp(-x.^2/2);\n",
    "plot(x,f)\n",
    "xlabel('x')\n",
    "ylabel('Probability Density (units of 1/x)')"
   ]
  },
  {
   "cell_type": "markdown",
   "metadata": {},
   "source": [
    "Note that this doesn't say anything about the mean (0) and standard deviation (1). We can get that by modifying this with an offset and standard deviation:\n",
    "$$ f(x|\\mu, \\sigma^2)=\\frac{1}{\\sqrt{2\\pi\\sigma^2}}e^{-(x-\\mu)^2/2\\sigma^2}$$\n",
    "where $\\mu$ is the mean and $\\sigma$ is the standard deviation."
   ]
  },
  {
   "cell_type": "markdown",
   "metadata": {},
   "source": [
    "Let's say we measure the temperature outdoors several times and report 10 C +/- 2C. We can plot the implied distribution for that too."
   ]
  },
  {
   "cell_type": "code",
   "execution_count": 41,
   "metadata": {
    "scrolled": false
   },
   "outputs": [
    {
     "name": "stdout",
     "output_type": "stream",
     "text": [
      "mu =  10\n",
      "sigma =  2\n"
     ]
    },
    {
     "data": {
      "image/png": "[encoded data removed]",
      "text/plain": [
       "<IPython.core.display.Image object>"
      ]
     },
     "metadata": {},
     "output_type": "display_data"
    }
   ],
   "source": [
    "#Plot the gaussian distribution function\n",
    "\n",
    "x = linspace(-0,20);\n",
    "mu=10\n",
    "sigma=2\n",
    "f = 1/sqrt(2*pi*sigma^2)*exp(-(x-mu).^2/2/sigma^2);\n",
    "plot(x,f)\n",
    "xlabel('T [C]')\n",
    "ylabel('Probability Density [1/C]')"
   ]
  },
  {
   "cell_type": "markdown",
   "metadata": {},
   "source": [
    "This implies that if we were to go out and measure the temperature more times, then plot a histogram, we would get something that look this. This also says that the probability of the temperature being in between 10 and 11 C is:\n",
    "$$P[10<T<11]=\\int_{10}^{11}\\frac{1}{\\sqrt{2\\pi2^2}}e^{-(x-10)^2/2\\cdot2^2}$$. "
   ]
  },
  {
   "cell_type": "code",
   "execution_count": 7,
   "metadata": {},
   "outputs": [
    {
     "name": "stdout",
     "output_type": "stream",
     "text": [
      "ans =  0.19146\n"
     ]
    }
   ],
   "source": [
    "function  f = temperature(T)\n",
    "    mu=10;\n",
    "    sigma=2;\n",
    "    f = 1/sqrt(2*pi*sigma^2)*exp(-(T-mu).^2/2/sigma^2); \n",
    "end\n",
    "\n",
    "integral(@temperature,10,11)"
   ]
  },
  {
   "cell_type": "markdown",
   "metadata": {},
   "source": [
    "This question is so common that we can use the cumulative distribution function, which is known for a gaussian:\n",
    "$$P[10<T<11]=\\int_{10}^{11}\\frac{1}{\\sqrt{2\\pi2^2}}e^{-(x-10)^2/2\\cdot2^2}=\\int_{-\\infty}^{11}\\frac{1}{\\sqrt{2\\pi2^2}}e^{-(x-10)^2/2\\cdot2^2}-\\int_{-\\infty}^{10}\\frac{1}{\\sqrt{2\\pi2^2}}e^{-(x-10)^2/2\\cdot2^2}$$ This results in a special function (the error function):\n",
    "$$F(x)=\\frac{1}{2}\\left[1+\\text{erf}\\left(\\frac{x-\\mu}{\\sigma\\sqrt{2}}\\right)\\right]$$\n",
    "\n",
    "(sketch the error function)"
   ]
  },
  {
   "cell_type": "code",
   "execution_count": 8,
   "metadata": {},
   "outputs": [
    {
     "name": "stdout",
     "output_type": "stream",
     "text": [
      "ans =  0.69146\n",
      "ans =  0.50000\n",
      "ans =  0.19146\n"
     ]
    }
   ],
   "source": [
    "function cdf = temperatureCDF(T)\n",
    "    mu=10;\n",
    "    sigma=2;\n",
    "    cdf = 1/2*(1+erf((T-mu)/sigma/sqrt(2)));\n",
    "end\n",
    "\n",
    "temperatureCDF(11)\n",
    "temperatureCDF(10)\n",
    "\n",
    "temperatureCDF(11)-temperatureCDF(10)"
   ]
  },
  {
   "cell_type": "markdown",
   "metadata": {},
   "source": [
    "This result is basically identical to the direct integration"
   ]
  },
  {
   "cell_type": "markdown",
   "metadata": {},
   "source": [
    "# Sampling from an arbitrary distribution"
   ]
  },
  {
   "cell_type": "markdown",
   "metadata": {},
   "source": [
    "Say we know exactly what the probability density function of a process is. Drawing samples from that distribution (the continuous equivalent of rolling the dice multiple times) can be very difficult. There are several likely scenarios:\n",
    "- You might know how to sample from the distribution if it is very simple\n",
    "- You can see if methods already exist in matlab or other packages to sample from the distribution  (say https://www.mathworks.com/help/stats/probability-distributions-1.html) \n",
    "- (hard) you can use methods such Monte Carlo methods to numerically generate samples from an arbitrary PDF. \n",
    "\n",
    "We will assume that you can sample from a distribution in matlab for this week. "
   ]
  },
  {
   "cell_type": "code",
   "execution_count": 9,
   "metadata": {},
   "outputs": [
    {
     "name": "stdout",
     "output_type": "stream",
     "text": [
      "ans = -0.36998\n"
     ]
    }
   ],
   "source": [
    "# Example for normal distribution\n",
    "normrnd(0,1.0)"
   ]
  },
  {
   "cell_type": "markdown",
   "metadata": {},
   "source": [
    "# Plotting distributions"
   ]
  },
  {
   "cell_type": "markdown",
   "metadata": {},
   "source": [
    "I am sure you all are aware of how to make histograms. In matlab it is quite easy with the `hist` or `histogram` functions. This is very straightforward. "
   ]
  },
  {
   "cell_type": "code",
   "execution_count": 10,
   "metadata": {},
   "outputs": [
    {
     "data": {
      "image/png": "[encoded data removed]",
      "text/plain": [
       "<IPython.core.display.Image object>"
      ]
     },
     "metadata": {},
     "output_type": "display_data"
    }
   ],
   "source": [
    "# Generate a bunch of random numbers\n",
    "random_samples = normrnd(0,1.0,100,1);\n",
    "hist(random_samples,10)\n",
    "xlabel('x')\n",
    "ylabel('Count')"
   ]
  },
  {
   "cell_type": "markdown",
   "metadata": {},
   "source": [
    "This count is not very helpful, as we can't really compare it to the probability distribution function from before. Most importantly, it's not normalized, but it also depends on the bin size. For example:"
   ]
  },
  {
   "cell_type": "code",
   "execution_count": 11,
   "metadata": {},
   "outputs": [
    {
     "data": {
      "image/png": "[encoded data removed]",
      "text/plain": [
       "<IPython.core.display.Image object>"
      ]
     },
     "metadata": {},
     "output_type": "display_data"
    }
   ],
   "source": [
    "hist(random_samples,90)\n",
    "xlabel('x')\n",
    "ylabel('Count')"
   ]
  },
  {
   "cell_type": "markdown",
   "metadata": {},
   "source": [
    "What we are often more interested in is an estimate of the probability distribution function with some assumption on how smooth the curve is. For example:"
   ]
  },
  {
   "cell_type": "code",
   "execution_count": 12,
   "metadata": {},
   "outputs": [
    {
     "data": {
      "image/png": "[encoded data removed]",
      "text/plain": [
       "<IPython.core.display.Image object>"
      ]
     },
     "metadata": {},
     "output_type": "display_data"
    }
   ],
   "source": [
    "pkg load econometrics\n",
    "eval_range = reshape(linspace(-8,8,1000),[1000;1]);\n",
    "density = kernel_density(eval_range,random_samples,0.5);\n",
    "\n",
    "hold all;\n",
    "[nn,xx] = hist(random_samples,10);\n",
    "hold all\n",
    "bar(xx,nn/sum(nn)/(xx(2)-xx(1)))\n",
    "\n",
    "plot(eval_range,density,'k','LineWidth',10)\n",
    "xlabel('x')\n",
    "ylabel('Probability Density Function')"
   ]
  },
  {
   "cell_type": "markdown",
   "metadata": {},
   "source": [
    "# Central limit theorem"
   ]
  },
  {
   "cell_type": "markdown",
   "metadata": {},
   "source": [
    "We tend to focus on Gaussian distributions because of a phenomenon known as the central limit theorem. Essentially, if you have a large number of independent, identically distributed values (imagine the coin toss or dice roll), the sum of those numbers or the expectation of the samples will converge to a Gaussian distribution.\n",
    "\n",
    "For example, let's consider a number of coin tosses and we're interested in the average number of heads that we will get out of X tosses (X could be 1, 10, 100, etc). "
   ]
  },
  {
   "cell_type": "code",
   "execution_count": 13,
   "metadata": {},
   "outputs": [
    {
     "name": "stdout",
     "output_type": "stream",
     "text": [
      "ans =  0.80000\n"
     ]
    }
   ],
   "source": [
    "# Simple coin flip analysis\n",
    "function result = coin_flip()\n",
    "\n",
    "    # Sample from a uniform distribution\n",
    "    random_uniform_sample = rand();\n",
    "    \n",
    "    if random_uniform_sample>0.5\n",
    "        result=1;\n",
    "    else\n",
    "        result=0;\n",
    "    end\n",
    "end\n",
    "\n",
    "function total = fraction_heads(num_flips)\n",
    "    flips = arrayfun(@coin_flip, 1:num_flips);\n",
    "    total = sum(flips)/num_flips;\n",
    "end\n",
    "\n",
    "fraction_heads(5)"
   ]
  },
  {
   "cell_type": "markdown",
   "metadata": {},
   "source": [
    "I can repeat this process over and over and see how this total number varies."
   ]
  },
  {
   "cell_type": "code",
   "execution_count": 14,
   "metadata": {},
   "outputs": [
    {
     "data": {
      "image/png": "[encoded data removed]",
      "text/plain": [
       "<IPython.core.display.Image object>"
      ]
     },
     "metadata": {},
     "output_type": "display_data"
    }
   ],
   "source": [
    "flip_results=[];\n",
    "for i=1:100\n",
    "    flip_results(i) = fraction_heads(3);\n",
    "end\n",
    "\n",
    "hist(flip_results);"
   ]
  },
  {
   "cell_type": "markdown",
   "metadata": {},
   "source": [
    "This is for 5 independent variables (5 independent coin tosses). The central limit theorem only holds for an infinite number of coin tosses, so it's accuracy will improve with number of independent coin tosses. "
   ]
  },
  {
   "cell_type": "code",
   "execution_count": 15,
   "metadata": {},
   "outputs": [
    {
     "data": {
      "image/png": "[encoded data removed]",
      "text/plain": [
       "<IPython.core.display.Image object>"
      ]
     },
     "metadata": {},
     "output_type": "display_data"
    }
   ],
   "source": [
    "flip_results=[];\n",
    "for i=1:5000\n",
    "    flip_results(i) = fraction_heads(100);\n",
    "end\n",
    "\n",
    "hist(flip_results,20);"
   ]
  },
  {
   "cell_type": "markdown",
   "metadata": {},
   "source": [
    "Many chemical engineering examples are the results of a huge number of independent random interactions (atoms bouncing off of each other or reacting) so we often get Gaussian distributions in parameter values. Thus, assuming parameters or quantities are gaussian distributed is often a reasonable approximation, but should be checked."
   ]
  },
  {
   "cell_type": "markdown",
   "metadata": {},
   "source": [
    "# Estimates on properties of a distribution"
   ]
  },
  {
   "cell_type": "markdown",
   "metadata": {},
   "source": [
    "One of the most common questions in science/engineering is\n",
    "- given a number of samples and,\n",
    "- assuming the samples are gaussian distributed,\n",
    "\n",
    "what is the mean and standard deviation of the underlying distribution, and what are the errors in estimating these properties? \n",
    "\n",
    "Remember that for the Gaussian distribution we have two parameters $\\mu$ and $\\sigma$\n",
    "$$ f(x|\\mu, \\sigma^2)=\\frac{1}{\\sqrt{2\\pi\\sigma^2}}e^{-(x-\\mu)^2/2\\sigma^2}$$\n",
    "\n",
    "We have two options:\n",
    "- We could vary the parameters in the gaussian distribution and see what values best fit the data. This is the most general idea, but can be very non-linear or time intensive. \n",
    "- For a specific PDF and set of properties, we can derive the Maximum Likelihood Estimator (MLE) which is the best function to estimate the quantity. "
   ]
  },
  {
   "cell_type": "markdown",
   "metadata": {},
   "source": [
    "### Curve fitting approach"
   ]
  },
  {
   "cell_type": "markdown",
   "metadata": {},
   "source": [
    "We have already covered how to do non-linear optimization. As an example, let's consider a set of random data"
   ]
  },
  {
   "cell_type": "code",
   "execution_count": 16,
   "metadata": {},
   "outputs": [
    {
     "data": {
      "image/png": "[encoded data removed]",
      "text/plain": [
       "<IPython.core.display.Image object>"
      ]
     },
     "metadata": {},
     "output_type": "display_data"
    }
   ],
   "source": [
    "random_samples = normrnd(0.2,1.2,100,1);\n",
    "\n",
    "hist(random_samples)"
   ]
  },
  {
   "cell_type": "markdown",
   "metadata": {},
   "source": [
    "Instead of fitting a probability distribution to data, we instead fit the cumulative distribution function. First, let's plot the CDF of this data. "
   ]
  },
  {
   "cell_type": "code",
   "execution_count": 17,
   "metadata": {
    "scrolled": false
   },
   "outputs": [
    {
     "data": {
      "image/png": "[encoded data removed]",
      "text/plain": [
       "<IPython.core.display.Image object>"
      ]
     },
     "metadata": {},
     "output_type": "display_data"
    }
   ],
   "source": [
    "x = sort(random_samples);\n",
    "CDF = (1:length(x))/length(x);\n",
    "\n",
    "plot(x,CDF)\n",
    "xlabel('x')\n",
    "ylabel('Cumulative Distribution Function')"
   ]
  },
  {
   "cell_type": "markdown",
   "metadata": {},
   "source": [
    "Notice that there is no binning error here - much better than trying to fit a histogram! Now, let's use the CDF function that we know has to hold true for a Gaussian."
   ]
  },
  {
   "cell_type": "code",
   "execution_count": 18,
   "metadata": {},
   "outputs": [
    {
     "data": {
      "image/png": "[encoded data removed]",
      "text/plain": [
       "<IPython.core.display.Image object>"
      ]
     },
     "metadata": {},
     "output_type": "display_data"
    }
   ],
   "source": [
    "function cdf = GaussianCDF(x)\n",
    "    mu=0;\n",
    "    sigma=2;\n",
    "    cdf = 1/2*(1+erf((x-mu)/sigma/sqrt(2)));\n",
    "end\n",
    "\n",
    "x_range = linspace(-3,4,100);\n",
    "cdf_range = arrayfun(@GaussianCDF,x_range);\n",
    "plot(x_range,cdf_range)\n",
    "\n",
    "hold all;\n",
    "plot(x,CDF,'.')\n",
    "xlabel('x')\n",
    "ylabel('Cumulative Distribution Function')"
   ]
  },
  {
   "cell_type": "markdown",
   "metadata": {},
   "source": [
    "We can play with the fixed values of mu and sigma here to see how well we get the two to fit."
   ]
  },
  {
   "cell_type": "code",
   "execution_count": 19,
   "metadata": {},
   "outputs": [
    {
     "data": {
      "image/png": "[encoded data removed]",
      "text/plain": [
       "<IPython.core.display.Image object>"
      ]
     },
     "metadata": {},
     "output_type": "display_data"
    }
   ],
   "source": [
    "function cdf = GaussianCDF(x)\n",
    "    mu=0.2;\n",
    "    sigma=1.2;\n",
    "    cdf = 1/2*(1+erf((x-mu)/sigma/sqrt(2)));\n",
    "end\n",
    "\n",
    "x_range = linspace(-3,4,100);\n",
    "cdf_range = arrayfun(@GaussianCDF,x_range);\n",
    "plot(x_range,cdf_range)\n",
    "\n",
    "hold all;\n",
    "plot(x,CDF,'.')\n",
    "xlabel('x')\n",
    "ylabel('Cumulative Distribution Function')"
   ]
  },
  {
   "cell_type": "markdown",
   "metadata": {},
   "source": [
    "Note that the best fitted values of the parameters aren't accurate! We don't have a way to quantify this uncertainty, but we could do it with MLE. "
   ]
  },
  {
   "cell_type": "markdown",
   "metadata": {},
   "source": [
    "### Analytical estimators"
   ]
  },
  {
   "cell_type": "markdown",
   "metadata": {},
   "source": [
    "If you make assumptions about the probability distribution and the function you are interested in, you can derive a function that will directly estimate the parameter you are interested in. \n",
    "\n",
    "For a gaussian probability distribution function:\n",
    "- The best estimator of the parameter $\\mu$ is the average: $(\\sum x_i)/N$, with variance $\\sigma^2/N$\n",
    "- The maximum likelihood estimate of the parameter $\\sigma$ is\n",
    "$$ s^2=\\frac{n}{n+1}\\sigma^2$$\n",
    "where $\\sigma$ is the standard deviation of the samples. The uncertainty on this estimate is \n",
    "the standard deviation, with variance given by $\\sigma^4/(n-1)$\n",
    "\n",
    "Let's try this for our gaussian distributed data"
   ]
  },
  {
   "cell_type": "code",
   "execution_count": 20,
   "metadata": {},
   "outputs": [
    {
     "name": "stdout",
     "output_type": "stream",
     "text": [
      "ans =  0.25409\n",
      "ans =  1.1375\n"
     ]
    }
   ],
   "source": [
    "random_samples = normrnd(0.2,1.2,100,1);\n",
    "\n",
    "# Actual mean: 0.2\n",
    "mean(random_samples)\n",
    "\n",
    "# Actual std: 1.2\n",
    "std(random_samples)"
   ]
  },
  {
   "cell_type": "markdown",
   "metadata": {},
   "source": [
    "Notice that every time we sample this we get a different result, and it varies quite a bit! Let's see how this estimate varies."
   ]
  },
  {
   "cell_type": "code",
   "execution_count": 84,
   "metadata": {},
   "outputs": [
    {
     "name": "stdout",
     "output_type": "stream",
     "text": [
      "mu =  0.20000\n",
      "sigma =  0.12000\n"
     ]
    },
    {
     "data": {
      "image/png": "[encoded data removed]",
      "text/plain": [
       "<IPython.core.display.Image object>"
      ]
     },
     "metadata": {},
     "output_type": "display_data"
    }
   ],
   "source": [
    "means=[];\n",
    "\n",
    "\n",
    "for i=1:1000\n",
    "    random_samples = normrnd(0.2,1.2,100,1);\n",
    "\n",
    "    # Actual mean: 0.2\n",
    "    means(end+1)=mean(random_samples);\n",
    "\n",
    "    # Actual std: 1.2\n",
    "    stds(end+1)=std(random_samples);\n",
    "end\n",
    "\n",
    "#Draw the distribution of observed means\n",
    "[nn, xx] = hist(means,40);\n",
    "hold all;\n",
    "\n",
    "bar(xx,nn/sum(nn)/(xx(2)-xx(1)))\n",
    "\n",
    "\n",
    "#Draw the analytical estimate for the mean estimator\n",
    "x = linspace(-0.5,0.6);\n",
    "mu=0.2\n",
    "sigma=1.2/sqrt(length(random_samples))\n",
    "f = 1/sqrt(2*pi*sigma^2)*exp(-(x-mu).^2/2/sigma^2);\n",
    "plot(x,f,'k','LineWidth',4)\n",
    "xlim([-0.3,0.5])\n",
    "xlabel('x')\n",
    "ylabel('Probability Distribution Function of the Mean Estimate')"
   ]
  },
  {
   "cell_type": "markdown",
   "metadata": {},
   "source": [
    "# Testing that two distributions are different"
   ]
  },
  {
   "cell_type": "markdown",
   "metadata": {},
   "source": [
    "We often want to know if a distribution is substatially different from another distribution. For example:\n",
    "- The average and the standard deviation of the first exam was 84% and 8.8% respectively.\n",
    "- The average and the standard deviation of the second exam was 66% and 17% respectively.\n",
    "\n",
    "We want to know, assuming these exams were both drawn from normal distributions, if the distribution for the second exam was substantially different from the first or just another realization of the same statistic.\n",
    "\n",
    "First, let's generate some synthetic data from these distributions: "
   ]
  },
  {
   "cell_type": "code",
   "execution_count": 103,
   "metadata": {},
   "outputs": [],
   "source": [
    "exam1_scores = normrnd(84,8.8,50,1);\n",
    "exam2_scores = normrnd(66,17,50,1);"
   ]
  },
  {
   "cell_type": "markdown",
   "metadata": {},
   "source": [
    "It always helps to plot the data"
   ]
  },
  {
   "cell_type": "code",
   "execution_count": 104,
   "metadata": {},
   "outputs": [
    {
     "data": {
      "image/png": "[encoded data removed]",
      "text/plain": [
       "<IPython.core.display.Image object>"
      ]
     },
     "metadata": {},
     "output_type": "display_data"
    }
   ],
   "source": [
    "[nn,xx] = hist(exam1_scores);\n",
    "plot(xx,nn,'o-')\n",
    "hold all;\n",
    "[nn2,xx2] = hist(exam2_scores);\n",
    "plot(xx2,nn,'or-')\n",
    "\n",
    "xlabel('Score')\n",
    "ylabel('Counts')"
   ]
  },
  {
   "cell_type": "markdown",
   "metadata": {},
   "source": [
    "We want to know if the average on those two tests is substantially different. So, let's use our new estimators:"
   ]
  },
  {
   "cell_type": "code",
   "execution_count": 114,
   "metadata": {},
   "outputs": [
    {
     "name": "stdout",
     "output_type": "stream",
     "text": [
      "mu =  82.707\n",
      "sigma =  1.2774\n",
      "mu =  63.786\n",
      "sigma =  2.0393\n"
     ]
    },
    {
     "data": {
      "image/png": "[encoded data removed]",
      "text/plain": [
       "<IPython.core.display.Image object>"
      ]
     },
     "metadata": {},
     "output_type": "display_data"
    }
   ],
   "source": [
    "x = linspace(0,100,400);\n",
    "mu=mean(exam1_scores)\n",
    "sigma=std(exam1_scores)/sqrt(length(exam1_scores))\n",
    "f = 1/sqrt(2*pi*sigma^2)*exp(-(x-mu).^2/2/sigma^2);\n",
    "plot(x,f,'k','LineWidth',4)\n",
    "xlim([0,100])\n",
    "hold all;\n",
    "\n",
    "x = linspace(0,100,400);\n",
    "mu=mean(exam2_scores)\n",
    "sigma=std(exam2_scores)/sqrt(length(exam2_scores))\n",
    "f = 1/sqrt(2*pi*sigma^2)*exp(-(x-mu).^2/2/sigma^2);\n",
    "plot(x,f,'k','LineWidth',4)\n",
    "xlim([0,100])\n",
    "\n",
    "xlabel('x')\n",
    "ylabel('Probability Distribution Function of the Mean Estimate')"
   ]
  },
  {
   "cell_type": "markdown",
   "metadata": {},
   "source": [
    "In this case, there is practically no chance that the average of these two were identical. Let's say we only had 5 samples instead though."
   ]
  },
  {
   "cell_type": "code",
   "execution_count": 116,
   "metadata": {},
   "outputs": [
    {
     "name": "stdout",
     "output_type": "stream",
     "text": [
      "mu =  81.298\n",
      "sigma =  4.0898\n",
      "mu =  67.846\n",
      "sigma =  4.3843\n"
     ]
    },
    {
     "data": {
      "image/png": "[encoded data removed]",
      "text/plain": [
       "<IPython.core.display.Image object>"
      ]
     },
     "metadata": {},
     "output_type": "display_data"
    }
   ],
   "source": [
    "exam1_scores = normrnd(84,8.8,10,1);\n",
    "exam2_scores = normrnd(66,17,10,1);\n",
    "\n",
    "x = linspace(0,100,400);\n",
    "mu=mean(exam1_scores)\n",
    "sigma=std(exam1_scores)/sqrt(length(exam1_scores))\n",
    "f = 1/sqrt(2*pi*sigma^2)*exp(-(x-mu).^2/2/sigma^2);\n",
    "plot(x,f,'k','LineWidth',4)\n",
    "xlim([0,100])\n",
    "hold all;\n",
    "\n",
    "x = linspace(0,100,400);\n",
    "mu=mean(exam2_scores)\n",
    "sigma=std(exam2_scores)/sqrt(length(exam2_scores))\n",
    "f = 1/sqrt(2*pi*sigma^2)*exp(-(x-mu).^2/2/sigma^2);\n",
    "plot(x,f,'k','LineWidth',4)\n",
    "xlim([0,100])\n",
    "\n",
    "xlabel('x')\n",
    "ylabel('Probability Distribution Function of the Mean Estimate')"
   ]
  },
  {
   "cell_type": "markdown",
   "metadata": {},
   "source": [
    "It is still pretty unlikely, but there is a significant chance now that exam 1 was actually just a weird set of samples from a distribution with mean 75."
   ]
  },
  {
   "cell_type": "markdown",
   "metadata": {},
   "source": [
    "### Student t-test"
   ]
  },
  {
   "cell_type": "markdown",
   "metadata": {},
   "source": [
    "This is the exact idea behind the student t-test. We will ask you to compute the student t-test for this example on the homework. "
   ]
  },
  {
   "cell_type": "code",
   "execution_count": null,
   "metadata": {},
   "outputs": [],
   "source": []
  }
 ],
 "metadata": {
  "kernelspec": {
   "display_name": "Octave",
   "language": "octave",
   "name": "octave"
  },
  "language_info": {
   "file_extension": ".m",
   "help_links": [
    {
     "text": "GNU Octave",
     "url": "https://www.gnu.org/software/octave/support.html"
    },
    {
     "text": "Octave Kernel",
     "url": "https://github.com/Calysto/octave_kernel"
    },
    {
     "text": "MetaKernel Magics",
     "url": "https://github.com/calysto/metakernel/blob/master/metakernel/magics/README.md"
    }
   ],
   "mimetype": "text/x-octave",
   "name": "octave",
   "version": "4.4.1"
  }
 },
 "nbformat": 4,
 "nbformat_minor": 2
}
